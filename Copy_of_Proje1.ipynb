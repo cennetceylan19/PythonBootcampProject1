{
  "nbformat": 4,
  "nbformat_minor": 0,
  "metadata": {
    "colab": {
      "name": "Copy of Proje1.ipynb",
      "provenance": [],
      "collapsed_sections": [],
      "authorship_tag": "ABX9TyPEcxjTdG66VNp486RuxJgV",
      "include_colab_link": true
    },
    "kernelspec": {
      "name": "python3",
      "display_name": "Python 3"
    },
    "language_info": {
      "name": "python"
    }
  },
  "cells": [
    {
      "cell_type": "markdown",
      "metadata": {
        "id": "view-in-github",
        "colab_type": "text"
      },
      "source": [
        "<a href=\"https://colab.research.google.com/github/cennetceylan19/PythonBootcampProject1/blob/main/Copy_of_Proje1.ipynb\" target=\"_parent\"><img src=\"https://colab.research.google.com/assets/colab-badge.svg\" alt=\"Open In Colab\"/></a>"
      ]
    },
    {
      "cell_type": "markdown",
      "source": [
        "# **Python Bootcamp Project 1**\n",
        "Merhaba, bu proje Global AIHub tarafından düzenlenen Python Bootcamp kapsamında yapmamız beklenen projenin ilkidir. \n",
        "\n",
        "\"Bu projede bir öğrenci not sistemi oluşturacaksınız. Sizden istenilenler:\n",
        "\n",
        "1.   Kendinize bir ders belirleyiniz. (Matematik,Fizik, Lineer Cebir vb.)\n",
        "2. Not aralığınızı oluşturunuz (100-80 ⇒ A, 79-70 ⇒ B vb.)\n",
        "3. Öğrenci Bilgilerini (Ad, Soyad, Okul No, sınav puanı) girebileceğiniz ve bu bilgilerin tutulabileceği bir sistem oluşturunuz.\n",
        "4. Girilen bilgilerden yola çıkarak öğrencinin dersi geçip geçmediğini göstermesi gerekmektedir.\n",
        "5. Öğrenci dersi geçti ise öğrencinin bilgilerinin tutulduğu alana “Geçti” yazısı, öğrenci dersi geçemedi ise “kaldı” yazısını göstermesi gerekmektedir.\n",
        "6. Notları girilen öğrencilerden dersi geçenleri ve geçmeyenleri gösteren bir Dataframe oluşturunuz. \n",
        "7. Oluşturulan Dataframe’i Excel tablosuna dönüştürünüz.\"\n",
        " \n",
        " \n",
        " yukarda belirtilen isterler sonucunda bir not sistemi oluşturdum.\n",
        "\n",
        "\n",
        "\n"
      ],
      "metadata": {
        "id": "WlrY1QYBHJlY"
      }
    },
    {
      "cell_type": "code",
      "source": [
        "print(\"Proje 1 Matematik dersi not hesaplama uygulaması\")\n",
        "kisi_sayisi=int(input(\"Giriş yapılacak öğrenci sayısını giriniz:\"))\n",
        "i=0\n",
        "names = []\n",
        "surnames = []\n",
        "No = []\n",
        "Puanlar = []\n",
        "Durumlar = []\n",
        "\n",
        "while i < kisi_sayisi:\n",
        "  Ad = input(\"Adı:\")\n",
        "  Soyad = input(\"Soyadı:\")\n",
        "  OkulNumarası = input(\"Okul Numarası:\")\n",
        "  Puan = input(\"Sınav puanı:\")\n",
        "  names.append(Ad)\n",
        "  surnames.append(Soyad)\n",
        "  No.append(int(OkulNumarası))\n",
        "  Puanlar.append(int(Puan))\n",
        "  \n",
        "  if 85 <= int(Puan) and int(Puan)<100:\n",
        "      print(\"A\")\n",
        "      Durum = \"Geçti\"\n",
        "      print(Durum)\n",
        "  elif 70 <= int(Puan) and int(Puan)< 85:\n",
        "      print(\"B\")\n",
        "      Durum= \"Geçti\"\n",
        "      print(Durum)\n",
        "  elif 55 <= int(Puan) and int(Puan)< 70:\n",
        "      print(\"C\")\n",
        "      Durum = \"Geçti\"\n",
        "      print(Durum)\n",
        "  elif 45 <= int(Puan) and int(Puan)< 55:\n",
        "      print(\"D\")\n",
        "      Durum = \"Geçti\"\n",
        "      print(Durum)\n",
        "  elif int(Puan)<45:\n",
        "      print(\"F\")\n",
        "      Durum = \"Kaldı\"\n",
        "      print(Durum)\n",
        "\n",
        "  Durumlar.append(Durum)\n",
        "  i+=1\n",
        "\n",
        "dictionary = {\"Ad\" :names,\n",
        "              \"Soyad\" :surnames,\n",
        "              \"Öğrenci Numarası\" :No,\n",
        "              \"Not\" :Puanlar,\n",
        "              \"Durumu\" :Durumlar\n",
        "                  }\n",
        "  \n",
        "print(dictionary)\n"
      ],
      "metadata": {
        "colab": {
          "base_uri": "https://localhost:8080/"
        },
        "id": "wivUpCp-GqID",
        "outputId": "843d98e2-77d4-4721-ba7e-2a93930f0d9d"
      },
      "execution_count": null,
      "outputs": [
        {
          "output_type": "stream",
          "name": "stdout",
          "text": [
            "Proje 1 Matematik dersi not hesaplama uygulamsı\n",
            "Giriş yapılacak öğrenci sayısını giriniz:2\n",
            "Adı:Cennet\n",
            "Soyadı:Ceylan\n",
            "Okul Numarası:1234\n",
            "Sınav puanı:99\n",
            "A\n",
            "Geçti\n",
            "Adı:Elanur \n",
            "Soyadı:Ceylan\n",
            "Okul Numarası:56987\n",
            "Sınav puanı:88\n",
            "A\n",
            "Geçti\n",
            "{'Adı': ['Cennet', 'Elanur '], 'Soyad': ['Ceylan', 'Ceylan'], 'No': [1234, 56987], 'Puan': [99, 88], 'Durumu': ['Geçti', 'Geçti']}\n"
          ]
        }
      ]
    },
    {
      "cell_type": "markdown",
      "source": [
        "Girilen kişi sayısı ile not sistemine giriş sağlanmıştır. Kişi sayısını tamamlayana kadar döngü sağlanması için While kullanılmıştır. Kullanıcıdan öğrencilerin adı, soyadı, öğrenci numarası ve notu girilmesi istenmiştir. if ve elif koşullarıyla not durumu belirlenmiş öğrencinin geçme kalma durumu ifade edilmiştir. Öğrencinin adı, soyadı, öğrenci numarası, adldığı not ve geçme kalma durumları bir dictionary 'e aktarılmıştır. "
      ],
      "metadata": {
        "id": "nE0846WaIqbi"
      }
    },
    {
      "cell_type": "code",
      "source": [
        "import pandas as pd"
      ],
      "metadata": {
        "id": "DCCS593gFPe0"
      },
      "execution_count": null,
      "outputs": []
    },
    {
      "cell_type": "markdown",
      "source": [
        "Pandas kullanılarak oluşturulan dictionary ile bir dataframe oluşturuldu. Oluşturulan dataframe excel dosyasına yüklendi. ve read komutu ile excel dosyasının okunması sağlandı."
      ],
      "metadata": {
        "id": "TcmjYSCvJk_q"
      }
    },
    {
      "cell_type": "code",
      "source": [
        "data = dictionary\n",
        "df = pd.DataFrame(data)\n",
        "print(df)\n",
        "df.to_excel(\"Sınavbilgisi.xlsx\") "
      ],
      "metadata": {
        "colab": {
          "base_uri": "https://localhost:8080/"
        },
        "id": "Qqjq-cf8EuKq",
        "outputId": "f1f855a0-7a66-4f17-f79b-f457051e52a7"
      },
      "execution_count": null,
      "outputs": [
        {
          "output_type": "stream",
          "name": "stdout",
          "text": [
            "       Adı   Soyad     No  Puan Durumu\n",
            "0   Cennet  Ceylan   1234    99  Geçti\n",
            "1  Elanur   Ceylan  56987    88  Geçti\n"
          ]
        }
      ]
    },
    {
      "cell_type": "code",
      "source": [
        "pd.read_excel(\"Sınavbilgisi.xlsx\")"
      ],
      "metadata": {
        "colab": {
          "base_uri": "https://localhost:8080/",
          "height": 112
        },
        "id": "xlOSWbqQGgL5",
        "outputId": "9d8f4296-3cc7-41fa-db62-b9be592bccf6"
      },
      "execution_count": null,
      "outputs": [
        {
          "output_type": "execute_result",
          "data": {
            "text/plain": [
              "   Unnamed: 0      Adı   Soyad     No  Puan Durumu\n",
              "0           0   Cennet  Ceylan   1234    99  Geçti\n",
              "1           1  Elanur   Ceylan  56987    88  Geçti"
            ],
            "text/html": [
              "\n",
              "  <div id=\"df-ae5407d6-661a-48a8-9901-fba6d2268a93\">\n",
              "    <div class=\"colab-df-container\">\n",
              "      <div>\n",
              "<style scoped>\n",
              "    .dataframe tbody tr th:only-of-type {\n",
              "        vertical-align: middle;\n",
              "    }\n",
              "\n",
              "    .dataframe tbody tr th {\n",
              "        vertical-align: top;\n",
              "    }\n",
              "\n",
              "    .dataframe thead th {\n",
              "        text-align: right;\n",
              "    }\n",
              "</style>\n",
              "<table border=\"1\" class=\"dataframe\">\n",
              "  <thead>\n",
              "    <tr style=\"text-align: right;\">\n",
              "      <th></th>\n",
              "      <th>Unnamed: 0</th>\n",
              "      <th>Adı</th>\n",
              "      <th>Soyad</th>\n",
              "      <th>No</th>\n",
              "      <th>Puan</th>\n",
              "      <th>Durumu</th>\n",
              "    </tr>\n",
              "  </thead>\n",
              "  <tbody>\n",
              "    <tr>\n",
              "      <th>0</th>\n",
              "      <td>0</td>\n",
              "      <td>Cennet</td>\n",
              "      <td>Ceylan</td>\n",
              "      <td>1234</td>\n",
              "      <td>99</td>\n",
              "      <td>Geçti</td>\n",
              "    </tr>\n",
              "    <tr>\n",
              "      <th>1</th>\n",
              "      <td>1</td>\n",
              "      <td>Elanur</td>\n",
              "      <td>Ceylan</td>\n",
              "      <td>56987</td>\n",
              "      <td>88</td>\n",
              "      <td>Geçti</td>\n",
              "    </tr>\n",
              "  </tbody>\n",
              "</table>\n",
              "</div>\n",
              "      <button class=\"colab-df-convert\" onclick=\"convertToInteractive('df-ae5407d6-661a-48a8-9901-fba6d2268a93')\"\n",
              "              title=\"Convert this dataframe to an interactive table.\"\n",
              "              style=\"display:none;\">\n",
              "        \n",
              "  <svg xmlns=\"http://www.w3.org/2000/svg\" height=\"24px\"viewBox=\"0 0 24 24\"\n",
              "       width=\"24px\">\n",
              "    <path d=\"M0 0h24v24H0V0z\" fill=\"none\"/>\n",
              "    <path d=\"M18.56 5.44l.94 2.06.94-2.06 2.06-.94-2.06-.94-.94-2.06-.94 2.06-2.06.94zm-11 1L8.5 8.5l.94-2.06 2.06-.94-2.06-.94L8.5 2.5l-.94 2.06-2.06.94zm10 10l.94 2.06.94-2.06 2.06-.94-2.06-.94-.94-2.06-.94 2.06-2.06.94z\"/><path d=\"M17.41 7.96l-1.37-1.37c-.4-.4-.92-.59-1.43-.59-.52 0-1.04.2-1.43.59L10.3 9.45l-7.72 7.72c-.78.78-.78 2.05 0 2.83L4 21.41c.39.39.9.59 1.41.59.51 0 1.02-.2 1.41-.59l7.78-7.78 2.81-2.81c.8-.78.8-2.07 0-2.86zM5.41 20L4 18.59l7.72-7.72 1.47 1.35L5.41 20z\"/>\n",
              "  </svg>\n",
              "      </button>\n",
              "      \n",
              "  <style>\n",
              "    .colab-df-container {\n",
              "      display:flex;\n",
              "      flex-wrap:wrap;\n",
              "      gap: 12px;\n",
              "    }\n",
              "\n",
              "    .colab-df-convert {\n",
              "      background-color: #E8F0FE;\n",
              "      border: none;\n",
              "      border-radius: 50%;\n",
              "      cursor: pointer;\n",
              "      display: none;\n",
              "      fill: #1967D2;\n",
              "      height: 32px;\n",
              "      padding: 0 0 0 0;\n",
              "      width: 32px;\n",
              "    }\n",
              "\n",
              "    .colab-df-convert:hover {\n",
              "      background-color: #E2EBFA;\n",
              "      box-shadow: 0px 1px 2px rgba(60, 64, 67, 0.3), 0px 1px 3px 1px rgba(60, 64, 67, 0.15);\n",
              "      fill: #174EA6;\n",
              "    }\n",
              "\n",
              "    [theme=dark] .colab-df-convert {\n",
              "      background-color: #3B4455;\n",
              "      fill: #D2E3FC;\n",
              "    }\n",
              "\n",
              "    [theme=dark] .colab-df-convert:hover {\n",
              "      background-color: #434B5C;\n",
              "      box-shadow: 0px 1px 3px 1px rgba(0, 0, 0, 0.15);\n",
              "      filter: drop-shadow(0px 1px 2px rgba(0, 0, 0, 0.3));\n",
              "      fill: #FFFFFF;\n",
              "    }\n",
              "  </style>\n",
              "\n",
              "      <script>\n",
              "        const buttonEl =\n",
              "          document.querySelector('#df-ae5407d6-661a-48a8-9901-fba6d2268a93 button.colab-df-convert');\n",
              "        buttonEl.style.display =\n",
              "          google.colab.kernel.accessAllowed ? 'block' : 'none';\n",
              "\n",
              "        async function convertToInteractive(key) {\n",
              "          const element = document.querySelector('#df-ae5407d6-661a-48a8-9901-fba6d2268a93');\n",
              "          const dataTable =\n",
              "            await google.colab.kernel.invokeFunction('convertToInteractive',\n",
              "                                                     [key], {});\n",
              "          if (!dataTable) return;\n",
              "\n",
              "          const docLinkHtml = 'Like what you see? Visit the ' +\n",
              "            '<a target=\"_blank\" href=https://colab.research.google.com/notebooks/data_table.ipynb>data table notebook</a>'\n",
              "            + ' to learn more about interactive tables.';\n",
              "          element.innerHTML = '';\n",
              "          dataTable['output_type'] = 'display_data';\n",
              "          await google.colab.output.renderOutput(dataTable, element);\n",
              "          const docLink = document.createElement('div');\n",
              "          docLink.innerHTML = docLinkHtml;\n",
              "          element.appendChild(docLink);\n",
              "        }\n",
              "      </script>\n",
              "    </div>\n",
              "  </div>\n",
              "  "
            ]
          },
          "metadata": {},
          "execution_count": 7
        }
      ]
    },
    {
      "cell_type": "markdown",
      "source": [
        ""
      ],
      "metadata": {
        "id": "bcpggKIkAXgq"
      }
    }
  ]
}
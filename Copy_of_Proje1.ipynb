{
  "nbformat": 4,
  "nbformat_minor": 0,
  "metadata": {
    "colab": {
      "name": "Copy of Proje1.ipynb",
      "provenance": [],
      "collapsed_sections": [],
      "authorship_tag": "ABX9TyPEcxjTdG66VNp486RuxJgV",
      "include_colab_link": true
    },
    "kernelspec": {
      "name": "python3",
      "display_name": "Python 3"
    },
    "language_info": {
      "name": "python"
    }
  },
  "cells": [
    {
      "cell_type": "markdown",
      "metadata": {
        "id": "view-in-github",
        "colab_type": "text"
      },
      "source": [
        "<a href=\"https://colab.research.google.com/github/cennetceylan19/PythonBootcampProject1/blob/main/Copy_of_Proje1.ipynb\" target=\"_parent\"><img src=\"https://colab.research.google.com/assets/colab-badge.svg\" alt=\"Open In Colab\"/></a>"
      ]
    },
    {
      "cell_type": "markdown",
      "source": [
        "# **Python Bootcamp Project 1**\n",
        "Merhaba, bu proje Global AIHub tarafından düzenlenen Python Bootcamp kapsamında yapmamız beklenen projenin ilkidir. \n",
        "\n",
        "\"Bu projede bir öğrenci not sistemi oluşturacaksınız. Sizden istenilenler:\n",
        "\n",
        "1.   Kendinize bir ders belirleyiniz. (Matematik,Fizik, Lineer Cebir vb.)\n",
        "2. Not aralığınızı oluşturunuz (100-80 ⇒ A, 79-70 ⇒ B vb.)\n",
        "3. Öğrenci Bilgilerini (Ad, Soyad, Okul No, sınav puanı) girebileceğiniz ve bu bilgilerin tutulabileceği bir sistem oluşturunuz.\n",
        "4. Girilen bilgilerden yola çıkarak öğrencinin dersi geçip geçmediğini göstermesi gerekmektedir.\n",
        "5. Öğrenci dersi geçti ise öğrencinin bilgilerinin tutulduğu alana “Geçti” yazısı, öğrenci dersi geçemedi ise “kaldı” yazısını göstermesi gerekmektedir.\n",
        "6. Notları girilen öğrencilerden dersi geçenleri ve geçmeyenleri gösteren bir Dataframe oluşturunuz. \n",
        "7. Oluşturulan Dataframe’i Excel tablosuna dönüştürünüz.\"\n",
        " \n",
        " \n",
        " yukarda belirtilen isterler sonucunda bir not sistemi oluşturdum.\n",
        "\n",
        "\n",
        "\n"
      ],
      "metadata": {
        "id": "WlrY1QYBHJlY"
      }
    },
    {
      "cell_type": "code",
      "source": [
        "print(\"Proje 1 Matematik dersi not hesaplama uygulaması\")\n",
        "kisi_sayisi=int(input(\"Giriş yapılacak öğrenci sayısını giriniz:\"))\n",
        "i=0\n",
        "names = []\n",
        "surnames = []\n",
        "No = []\n",
        "Puanlar = []\n",
        "Durumlar = []\n",
        "\n",
        "while i < kisi_sayisi:\n",
        "  Ad = input(\"Adı:\")\n",
        "  Soyad = input(\"Soyadı:\")\n",
        "  OkulNumarası = input(\"Okul Numarası:\")\n",
        "  Puan = input(\"Sınav puanı:\")\n",
        "  names.append(Ad)\n",
        "  surnames.append(Soyad)\n",
        "  No.append(int(OkulNumarası))\n",
        "  Puanlar.append(int(Puan))\n",
        "  \n",
        "  if 85 <= int(Puan) and int(Puan)<100:\n",
        "      print(\"A\")\n",
        "      Durum = \"Geçti\"\n",
        "      print(Durum)\n",
        "  elif 70 <= int(Puan) and int(Puan)< 85:\n",
        "      print(\"B\")\n",
        "      Durum= \"Geçti\"\n",
        "      print(Durum)\n",
        "  elif 55 <= int(Puan) and int(Puan)< 70:\n",
        "      print(\"C\")\n",
        "      Durum = \"Geçti\"\n",
        "      print(Durum)\n",
        "  elif 45 <= int(Puan) and int(Puan)< 55:\n",
        "      print(\"D\")\n",
        "      Durum = \"Geçti\"\n",
        "      print(Durum)\n",
        "  elif int(Puan)<45:\n",
        "      print(\"F\")\n",
        "      Durum = \"Kaldı\"\n",
        "      print(Durum)\n",
        "\n",
        "  Durumlar.append(Durum)\n",
        "  i+=1\n",
        "\n",
        "dictionary = {\"Ad\" :names,\n",
        "              \"Soyad\" :surnames,\n",
        "              \"Öğrenci Numarası\" :No,\n",
        "              \"Not\" :Puanlar,\n",
        "              \"Durumu\" :Durumlar\n",
        "                  }\n",
        "  \n",
        "print(dictionary)\n"
      ],
      "metadata": {
        "id": "wivUpCp-GqID"
      },
      "execution_count": null,
      "outputs": []
    },
    {
      "cell_type": "markdown",
      "source": [
        "Girilen kişi sayısı ile not sistemine giriş sağlanmıştır. Kişi sayısını tamamlayana kadar döngü sağlanması için While kullanılmıştır. Kullanıcıdan öğrencilerin adı, soyadı, öğrenci numarası ve notu girilmesi istenmiştir. if ve elif koşullarıyla not durumu belirlenmiş öğrencinin geçme kalma durumu ifade edilmiştir. Öğrencinin adı, soyadı, öğrenci numarası, adldığı not ve geçme kalma durumları bir dictionary 'e aktarılmıştır. "
      ],
      "metadata": {
        "id": "nE0846WaIqbi"
      }
    },
    {
      "cell_type": "code",
      "source": [
        "import pandas as pd"
      ],
      "metadata": {
        "id": "DCCS593gFPe0"
      },
      "execution_count": null,
      "outputs": []
    },
    {
      "cell_type": "markdown",
      "source": [
        "Pandas kullanılarak oluşturulan dictionary ile bir dataframe oluşturuldu. Oluşturulan dataframe excel dosyasına yüklendi. ve read komutu ile excel dosyasının okunması sağlandı."
      ],
      "metadata": {
        "id": "TcmjYSCvJk_q"
      }
    },
    {
      "cell_type": "code",
      "source": [
        "data = dictionary\n",
        "df = pd.DataFrame(data)\n",
        "print(df)\n",
        "df.to_excel(\"Sınavbilgisi.xlsx\") "
      ],
      "metadata": {
        "id": "Qqjq-cf8EuKq"
      },
      "execution_count": null,
      "outputs": []
    },
    {
      "cell_type": "code",
      "source": [
        "pd.read_excel(\"Sınavbilgisi.xlsx\")"
      ],
      "metadata": {
        "id": "xlOSWbqQGgL5"
      },
      "execution_count": null,
      "outputs": []
    },
    {
      "cell_type": "markdown",
      "source": [
        ""
      ],
      "metadata": {
        "id": "bcpggKIkAXgq"
      }
    }
  ]
}